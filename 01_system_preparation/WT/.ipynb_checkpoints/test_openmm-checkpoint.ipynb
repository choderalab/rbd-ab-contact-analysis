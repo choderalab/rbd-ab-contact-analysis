{
 "cells": [
  {
   "cell_type": "code",
   "execution_count": 1,
   "metadata": {},
   "outputs": [],
   "source": [
    "from __future__ import division, print_function\n",
    "\n",
    "import sys\n",
    "from sys import stdout\n",
    "\n",
    "import mdtraj as md\n",
    "import simtk.openmm as mm\n",
    "import simtk.openmm.app as app\n",
    "import simtk.unit as unit\n",
    "from mdtraj.reporters import DCDReporter\n",
    "from simtk.openmm import XmlSerializer\n",
    "from simtk.openmm import MonteCarloBarostat\n",
    "from simtk.openmm.app import CheckpointReporter, PDBFile\n",
    "from simtk.openmm.app.amberinpcrdfile import AmberInpcrdFile\n",
    "from simtk.openmm.app.amberprmtopfile import AmberPrmtopFile\n",
    "from simtk.openmm.app.pdbreporter import PDBReporter\n",
    "from simtk.openmm.app.statedatareporter import StateDataReporter\n",
    "import openmmtools\n",
    "import time\n",
    "import argparse\n",
    "\n"
   ]
  },
  {
   "cell_type": "code",
   "execution_count": 2,
   "metadata": {},
   "outputs": [
    {
     "name": "stdout",
     "output_type": "stream",
     "text": [
      "Reading parameters...\n",
      "Creating OpenMM system from AMBER input files...\n"
     ]
    }
   ],
   "source": [
    "# Set parameters\n",
    "print(\"Reading parameters...\")\n",
    "pressure = 1.0 * unit.atmospheres\n",
    "temperature = 310 * unit.kelvin\n",
    "nonbonded_method = app.PME\n",
    "constraints = app.HBonds\n",
    "remove_cm_motion = False\n",
    "hydrogen_mass = 4.0 * unit.amu  # Using HMR\n",
    "collision_rate = 1.0 / unit.picoseconds\n",
    "timestep = 0.004 * unit.picoseconds  # We can use a 4fs timestep with HMR\n",
    "\n",
    "# Set steps and frequencies\n",
    "nsteps = 2500  # 10 ps\n",
    "report_freq = 100\n",
    "chk_freq = 500\n",
    "traj_freq = 1000  # 2500 frames\n",
    "\n",
    "# Set input file names\n",
    "amber_prmtop_file = \"run_tleap/7jx3_s309_s304/CLONE0_GEN38/17309_CLONE0_GEN38\" + \".prmtop\"\n",
    "amber_inpcrd_file = \"WT/CLONE0_GEN38/17309_CLONE0_GEN38\" + \".inpcrd\"\n",
    "\n",
    "# Set file names\n",
    "output_prefix = './'\n",
    "integrator_xml_filename = \"integrator.xml\"\n",
    "state_xml_filename = \"state.xml\"\n",
    "state_pdb_filename = \"equilibrated.pdb\"\n",
    "system_xml_filename = \"system.xml\"\n",
    "checkpoint_filename = \"equilibrated.chk\"\n",
    "traj_output_filename = \"equilibrated.dcd\"\n",
    "\n",
    "# Load the AMBER files\n",
    "print(\"Creating OpenMM system from AMBER input files...\")\n",
    "prmtop = AmberPrmtopFile(amber_prmtop_file)\n",
    "inpcrd = AmberInpcrdFile(amber_inpcrd_file)\n",
    "\n"
   ]
  },
  {
   "cell_type": "code",
   "execution_count": 3,
   "metadata": {},
   "outputs": [
    {
     "data": {
      "text/plain": [
       "4"
      ]
     },
     "execution_count": 3,
     "metadata": {},
     "output_type": "execute_result"
    }
   ],
   "source": [
    "system = prmtop.createSystem(\n",
    "    nonbondedMethod=nonbonded_method,\n",
    "    constraints=constraints,\n",
    "    temperature=temperature,\n",
    "    removeCMMotion=remove_cm_motion,\n",
    "    hydrogenMass=hydrogen_mass,\n",
    ")\n",
    "\n",
    "# Add a barostat to the system\n",
    "system.addForce(MonteCarloBarostat(pressure, temperature))\n",
    "\n"
   ]
  },
  {
   "cell_type": "code",
   "execution_count": 4,
   "metadata": {},
   "outputs": [
    {
     "name": "stdout",
     "output_type": "stream",
     "text": [
      "Serializing integrator to integrator.xml\n",
      "Minimising energy...\n",
      "  initial : -532323.234 kcal/mol\n",
      "  final : -754055.909 kcal/mol\n",
      "Generating random starting velocities\n",
      "Running dynamics in the NPT ensemble...\n",
      "    Equilibration took 21.747 s for 0.010 ns (  39.729 ns/day)\n"
     ]
    }
   ],
   "source": [
    "# Make and serialize integrator - Langevin dynamics\n",
    "print(\"Serializing integrator to %s\" % integrator_xml_filename)\n",
    "integrator = openmmtools.integrators.LangevinIntegrator(\n",
    "    temperature,\n",
    "    collision_rate,  # Friction coefficient\n",
    "    timestep, \n",
    "    constraint_tolerance=1e-5\n",
    ")\n",
    "# with open(output_prefix + integrator_xml_filename, \"w\") as outfile:\n",
    "#     xml = mm.XmlSerializer.serialize(integrator)\n",
    "#     outfile.write(xml)\n",
    "\n",
    "# Define the platform to use; CUDA, OpenCL, CPU, or Reference. Or do not specify\n",
    "# the platform to use the default (fastest) platform\n",
    "platform = mm.Platform.getPlatformByName(\"OpenCL\")\n",
    "prop = dict(OpenCLPrecision=\"mixed\")  # Use mixed single/double precision\n",
    "\n",
    "# Create the Simulation object\n",
    "sim = app.Simulation(prmtop.topology, system, integrator, platform, prop)\n",
    "\n",
    "# Set the particle positions\n",
    "sim.context.setPositions(inpcrd.positions)\n",
    "\n",
    "# Minimize the energy\n",
    "print(\"Minimising energy...\")\n",
    "print(\n",
    "    \"  initial : %8.3f kcal/mol\"\n",
    "    % (\n",
    "        sim.context.getState(getEnergy=True).getPotentialEnergy()\n",
    "        / unit.kilocalories_per_mole\n",
    "    )\n",
    ")\n",
    "sim.minimizeEnergy()\n",
    "print(\n",
    "    \"  final : %8.3f kcal/mol\"\n",
    "    % (\n",
    "        sim.context.getState(getEnergy=True).getPotentialEnergy()\n",
    "        / unit.kilocalories_per_mole\n",
    "    )\n",
    ")\n",
    "\n",
    "# set starting velocities:\n",
    "print(\"Generating random starting velocities\")\n",
    "sim.context.setVelocitiesToTemperature(temperature)\n",
    "\n",
    "# Run NPT dynamics\n",
    "print(\"Running dynamics in the NPT ensemble...\")\n",
    "initial_time = time.time()\n",
    "sim.step(nsteps)\n",
    "elapsed_time = (time.time() - initial_time) * unit.seconds\n",
    "simulation_time = nsteps * timestep\n",
    "print('    Equilibration took %.3f s for %.3f ns (%8.3f ns/day)' % (elapsed_time / unit.seconds, simulation_time / unit.nanoseconds, simulation_time / elapsed_time * unit.day / unit.nanoseconds))\n",
    "\n"
   ]
  },
  {
   "cell_type": "code",
   "execution_count": 5,
   "metadata": {},
   "outputs": [],
   "source": [
    "# Save the final state as a PDB\n",
    "\n",
    "with open(\"equilibrated.pdb\", \"w\") as outfile:\n",
    "    PDBFile.writeFile(\n",
    "        sim.topology,\n",
    "        sim.context.getState(\n",
    "            getPositions=True,\n",
    "            enforcePeriodicBox=True).getPositions(),\n",
    "            file=outfile,\n",
    "            keepIds=True\n",
    "    )"
   ]
  },
  {
   "cell_type": "code",
   "execution_count": null,
   "metadata": {},
   "outputs": [],
   "source": []
  }
 ],
 "metadata": {
  "kernelspec": {
   "display_name": "Python 3",
   "language": "python",
   "name": "python3"
  },
  "language_info": {
   "codemirror_mode": {
    "name": "ipython",
    "version": 3
   },
   "file_extension": ".py",
   "mimetype": "text/x-python",
   "name": "python",
   "nbconvert_exporter": "python",
   "pygments_lexer": "ipython3",
   "version": "3.7.8"
  }
 },
 "nbformat": 4,
 "nbformat_minor": 4
}
