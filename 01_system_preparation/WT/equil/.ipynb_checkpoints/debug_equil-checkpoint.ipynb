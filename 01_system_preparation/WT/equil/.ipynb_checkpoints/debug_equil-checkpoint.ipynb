{
 "cells": [
  {
   "cell_type": "code",
   "execution_count": 9,
   "metadata": {},
   "outputs": [],
   "source": [
    "from __future__ import division, print_function\n",
    "\n",
    "import sys\n",
    "from sys import stdout\n",
    "\n",
    "import mdtraj as md\n",
    "import simtk.openmm as mm\n",
    "import simtk.openmm.app as app\n",
    "import simtk.unit as unit\n",
    "from mdtraj.reporters import DCDReporter\n",
    "from simtk.openmm import XmlSerializer\n",
    "from simtk.openmm import MonteCarloBarostat\n",
    "from simtk.openmm.app import CheckpointReporter, PDBFile\n",
    "from simtk.openmm.app.amberinpcrdfile import AmberInpcrdFile\n",
    "from simtk.openmm.app.amberprmtopfile import AmberPrmtopFile\n",
    "from simtk.openmm.app.pdbreporter import PDBReporter\n",
    "from simtk.openmm.app.statedatareporter import StateDataReporter\n",
    "import openmmtools\n",
    "import time"
   ]
  },
  {
   "cell_type": "code",
   "execution_count": 17,
   "metadata": {},
   "outputs": [
    {
     "name": "stdout",
     "output_type": "stream",
     "text": [
      "Reading parameters...\n"
     ]
    }
   ],
   "source": [
    "# Set parameters\n",
    "print(\"Reading parameters...\")\n",
    "pressure = 1.0 * unit.atmospheres\n",
    "temperature = 310 * unit.kelvin\n",
    "nonbonded_method = app.PME\n",
    "constraints = app.HBonds\n",
    "remove_cm_motion = False\n",
    "hydrogen_mass = 4.0 * unit.amu  # Using HMR\n",
    "collision_rate = 1.0 / unit.picoseconds\n",
    "timestep = 0.004 * unit.picoseconds  # We can use a 4fs timestep with HMR\n",
    "\n",
    "# Set steps and frequencies\n",
    "nsteps = 2500000  # 10 ns\n",
    "report_freq = 100\n",
    "chk_freq = 500\n",
    "traj_freq = 2000  # 1250 frames\n",
    "\n",
    "# Set input file names\n",
    "amber_prmtop_file = \"7jx3_s309_s304/7jx3_s309_s304.prmtop\"\n",
    "amber_inpcrd_file = \"7jx3_s309_s304/7jx3_s309_s304.inpcrd\"\n",
    "\n",
    "# Set file names\n",
    "output_prefix = 'output/'\n",
    "integrator_xml_filename = \"integrator.xml\"\n",
    "state_xml_filename = \"state.xml\"\n",
    "state_pdb_filename = \"equilibrated.pdb\"\n",
    "system_xml_filename = \"system.xml\"\n",
    "checkpoint_filename = \"equilibrated.chk\"\n",
    "traj_output_filename = \"equilibrated.dcd\""
   ]
  },
  {
   "cell_type": "code",
   "execution_count": 19,
   "metadata": {},
   "outputs": [
    {
     "name": "stdout",
     "output_type": "stream",
     "text": [
      "Creating OpenMM system from AMBER input files...\n"
     ]
    }
   ],
   "source": [
    "# Load the AMBER files\n",
    "print(\"Creating OpenMM system from AMBER input files...\")\n",
    "prmtop = AmberPrmtopFile(amber_prmtop_file)\n",
    "inpcrd = AmberInpcrdFile(amber_inpcrd_file)\n",
    "\n",
    "system = prmtop.createSystem(\n",
    "    nonbondedMethod=nonbonded_method,\n",
    "    constraints=constraints,\n",
    "    temperature=temperature,\n",
    "    removeCMMotion=remove_cm_motion,\n",
    "    hydrogenMass=hydrogen_mass,\n",
    ")"
   ]
  },
  {
   "cell_type": "code",
   "execution_count": null,
   "metadata": {},
   "outputs": [],
   "source": [
    "# Load equilibrated pdb"
   ]
  },
  {
   "cell_type": "markdown",
   "metadata": {},
   "source": [
    "S309"
   ]
  },
  {
   "cell_type": "code",
   "execution_count": 7,
   "metadata": {},
   "outputs": [
    {
     "name": "stdout",
     "output_type": "stream",
     "text": [
      "Bond(<Atom 6789 (ND2) of chain 0 residue 455 (NLN)>, <Atom 9684 (C1) of chain 0 residue 643 (UYB)>)\n",
      "Bond(<Atom 9709 (O4) of chain 0 residue 643 (UYB)>, <Atom 9710 (C1) of chain 0 residue 644 (4YB)>)\n",
      "Bond(<Atom 9692 (O6) of chain 0 residue 643 (UYB)>, <Atom 9897 (C1) of chain 0 residue 652 (0FA)>)\n"
     ]
    }
   ],
   "source": [
    "# 0FA653 C1- UYB644 O6\n",
    "resids = [653, 644]\n",
    "for bond in prmtop.topology.bonds():\n",
    "    if int(bond[0].residue.id) in resids or int(bond[1].residue.id) in resids:\n",
    "        if int(bond[0].residue.id) != int(bond[1].residue.id):\n",
    "            print(bond)"
   ]
  },
  {
   "cell_type": "code",
   "execution_count": 6,
   "metadata": {},
   "outputs": [
    {
     "name": "stdout",
     "output_type": "stream",
     "text": [
      "Bond(<Atom 9736 (O4) of chain 0 residue 644 (4YB)>, <Atom 9737 (C1) of chain 0 residue 645 (VMB)>)\n",
      "Bond(<Atom 9756 (O3) of chain 0 residue 645 (VMB)>, <Atom 9827 (C1) of chain 0 residue 649 (2MA)>)\n",
      "Bond(<Atom 9745 (O6) of chain 0 residue 645 (VMB)>, <Atom 9757 (C1) of chain 0 residue 646 (2MA)>)\n",
      "Bond(<Atom 9847 (O2) of chain 0 residue 649 (2MA)>, <Atom 9848 (C1) of chain 0 residue 650 (4YB)>)\n"
     ]
    }
   ],
   "source": [
    "# 2MA650 C1 - VMB646 O3 \n",
    "resids = [650, 646]\n",
    "for bond in prmtop.topology.bonds():\n",
    "    if int(bond[0].residue.id) in resids or int(bond[1].residue.id) in resids:\n",
    "        if int(bond[0].residue.id) != int(bond[1].residue.id):\n",
    "            print(bond)"
   ]
  },
  {
   "cell_type": "code",
   "execution_count": 8,
   "metadata": {},
   "outputs": [
    {
     "name": "stdout",
     "output_type": "stream",
     "text": [
      "Bond(<Atom 6778 (C) of chain 0 residue 454 (PHE)>, <Atom 6780 (N) of chain 0 residue 455 (NLN)>)\n",
      "Bond(<Atom 6791 (C) of chain 0 residue 455 (NLN)>, <Atom 6793 (N) of chain 0 residue 456 (ALA)>)\n",
      "Bond(<Atom 6789 (ND2) of chain 0 residue 455 (NLN)>, <Atom 9684 (C1) of chain 0 residue 643 (UYB)>)\n",
      "Bond(<Atom 9709 (O4) of chain 0 residue 643 (UYB)>, <Atom 9710 (C1) of chain 0 residue 644 (4YB)>)\n",
      "Bond(<Atom 9692 (O6) of chain 0 residue 643 (UYB)>, <Atom 9897 (C1) of chain 0 residue 652 (0FA)>)\n"
     ]
    }
   ],
   "source": [
    "# NLN456  ND2 - UYB644 C1 \n",
    "resids = [456, 644]\n",
    "for bond in prmtop.topology.bonds():\n",
    "    if int(bond[0].residue.id) in resids or int(bond[1].residue.id) in resids:\n",
    "        if int(bond[0].residue.id) != int(bond[1].residue.id):\n",
    "            print(bond)"
   ]
  },
  {
   "cell_type": "markdown",
   "metadata": {},
   "source": [
    "S304"
   ]
  },
  {
   "cell_type": "code",
   "execution_count": 14,
   "metadata": {},
   "outputs": [
    {
     "name": "stdout",
     "output_type": "stream",
     "text": [
      "Bond(<Atom 6690 (ND2) of chain 0 residue 450 (NLN)>, <Atom 9585 (C1) of chain 0 residue 638 (UYB)>)\n",
      "Bond(<Atom 9610 (O4) of chain 0 residue 638 (UYB)>, <Atom 9611 (C1) of chain 0 residue 639 (4YB)>)\n",
      "Bond(<Atom 9593 (O6) of chain 0 residue 638 (UYB)>, <Atom 9798 (C1) of chain 0 residue 647 (0FA)>)\n"
     ]
    }
   ],
   "source": [
    "# 639UYB O6 - 6480FA C1\n",
    "resids = [639, 648]\n",
    "for bond in prmtop.topology.bonds():\n",
    "    if int(bond[0].residue.id) in resids or int(bond[1].residue.id) in resids:\n",
    "        if int(bond[0].residue.id) != int(bond[1].residue.id):\n",
    "            print(bond)"
   ]
  },
  {
   "cell_type": "code",
   "execution_count": 13,
   "metadata": {},
   "outputs": [
    {
     "name": "stdout",
     "output_type": "stream",
     "text": [
      "Bond(<Atom 9637 (O4) of chain 0 residue 639 (4YB)>, <Atom 9638 (C1) of chain 0 residue 640 (VMB)>)\n",
      "Bond(<Atom 9657 (O3) of chain 0 residue 640 (VMB)>, <Atom 9728 (C1) of chain 0 residue 644 (2MA)>)\n",
      "Bond(<Atom 9646 (O6) of chain 0 residue 640 (VMB)>, <Atom 9658 (C1) of chain 0 residue 641 (2MA)>)\n",
      "Bond(<Atom 9748 (O2) of chain 0 residue 644 (2MA)>, <Atom 9749 (C1) of chain 0 residue 645 (4YB)>)\n"
     ]
    }
   ],
   "source": [
    "# VMB641 O3 - 2MA645 C1\n",
    "resids = [641, 645]\n",
    "for bond in prmtop.topology.bonds():\n",
    "    if int(bond[0].residue.id) in resids or int(bond[1].residue.id) in resids:\n",
    "        if int(bond[0].residue.id) != int(bond[1].residue.id):\n",
    "            print(bond)"
   ]
  },
  {
   "cell_type": "code",
   "execution_count": 12,
   "metadata": {},
   "outputs": [
    {
     "name": "stdout",
     "output_type": "stream",
     "text": [
      "Bond(<Atom 6679 (C) of chain 0 residue 449 (PHE)>, <Atom 6681 (N) of chain 0 residue 450 (NLN)>)\n",
      "Bond(<Atom 6692 (C) of chain 0 residue 450 (NLN)>, <Atom 6694 (N) of chain 0 residue 451 (ALA)>)\n",
      "Bond(<Atom 6690 (ND2) of chain 0 residue 450 (NLN)>, <Atom 9585 (C1) of chain 0 residue 638 (UYB)>)\n",
      "Bond(<Atom 9610 (O4) of chain 0 residue 638 (UYB)>, <Atom 9611 (C1) of chain 0 residue 639 (4YB)>)\n",
      "Bond(<Atom 9593 (O6) of chain 0 residue 638 (UYB)>, <Atom 9798 (C1) of chain 0 residue 647 (0FA)>)\n"
     ]
    }
   ],
   "source": [
    "# 451NLN ND2 - 639UYB C1\n",
    "resids = [451, 639]\n",
    "for bond in prmtop.topology.bonds():\n",
    "    if int(bond[0].residue.id) in resids or int(bond[1].residue.id) in resids:\n",
    "        if int(bond[0].residue.id) != int(bond[1].residue.id):\n",
    "            print(bond)"
   ]
  },
  {
   "cell_type": "code",
   "execution_count": 15,
   "metadata": {},
   "outputs": [
    {
     "name": "stdout",
     "output_type": "stream",
     "text": [
      "Bond(<Atom 3256 (C) of chain 0 residue 221 (SER)>, <Atom 3258 (N) of chain 0 residue 222 (CYS)>)\n",
      "Bond(<Atom 3265 (SG) of chain 0 residue 222 (CYS)>, <Atom 6503 (SG) of chain 0 residue 437 (CYS)>)\n",
      "Bond(<Atom 6494 (C) of chain 0 residue 436 (GLU)>, <Atom 6496 (N) of chain 0 residue 437 (CYS)>)\n"
     ]
    }
   ],
   "source": [
    "# CYS223 and CYS438\n",
    "resids = [223, 438]\n",
    "for bond in prmtop.topology.bonds():\n",
    "    if int(bond[0].residue.id) in resids or int(bond[1].residue.id) in resids:\n",
    "        if int(bond[0].residue.id) != int(bond[1].residue.id):\n",
    "            print(bond)"
   ]
  },
  {
   "cell_type": "code",
   "execution_count": 17,
   "metadata": {},
   "outputs": [
    {
     "name": "stdout",
     "output_type": "stream",
     "text": [
      "Bond(<Atom 3265 (SG) of chain 0 residue 222 (CYS)>, <Atom 6503 (SG) of chain 0 residue 437 (CYS)>)\n",
      "Bond(<Atom 6494 (C) of chain 0 residue 436 (GLU)>, <Atom 6496 (N) of chain 0 residue 437 (CYS)>)\n",
      "Bond(<Atom 6511 (C) of chain 0 residue 438 (ACE)>, <Atom 6513 (N) of chain 0 residue 439 (ILE)>)\n",
      "Bond(<Atom 6530 (C) of chain 0 residue 439 (ILE)>, <Atom 6532 (N) of chain 0 residue 440 (THR)>)\n"
     ]
    }
   ],
   "source": [
    "# Found a weird long dashed line from ILE440  of chain R and CYS438 of chain L\n",
    "resids = [438, 440]\n",
    "for bond in prmtop.topology.bonds():\n",
    "    if int(bond[0].residue.id) in resids or int(bond[1].residue.id) in resids:\n",
    "        if int(bond[0].residue.id) != int(bond[1].residue.id):\n",
    "            print(bond)\n",
    "# doesn't look like this bond actually exists"
   ]
  },
  {
   "cell_type": "code",
   "execution_count": 16,
   "metadata": {},
   "outputs": [
    {
     "name": "stdout",
     "output_type": "stream",
     "text": [
      "Bond(<Atom 3256 (C) of chain 0 residue 221 (SER)>, <Atom 3258 (N) of chain 0 residue 222 (CYS)>)\n",
      "Bond(<Atom 3265 (SG) of chain 0 residue 222 (CYS)>, <Atom 6503 (SG) of chain 0 residue 437 (CYS)>)\n",
      "Bond(<Atom 3281 (C) of chain 0 residue 223 (ASP)>, <Atom 3283 (N) of chain 0 residue 224 (ILE)>)\n"
     ]
    }
   ],
   "source": [
    "# Found a weird long dashed line from CYS223  of chain H and ASP224 of chain L\n",
    "resids = [223, 224]\n",
    "for bond in prmtop.topology.bonds():\n",
    "    if int(bond[0].residue.id) in resids or int(bond[1].residue.id) in resids:\n",
    "        if int(bond[0].residue.id) != int(bond[1].residue.id):\n",
    "            print(bond)\n",
    "# doesn't look like this bond actually exists"
   ]
  },
  {
   "cell_type": "markdown",
   "metadata": {},
   "source": [
    "S309_S304"
   ]
  },
  {
   "cell_type": "code",
   "execution_count": 6,
   "metadata": {},
   "outputs": [
    {
     "name": "stdout",
     "output_type": "stream",
     "text": [
      "Bond(<Atom 13296 (ND2) of chain 0 residue 893 (NLN)>, <Atom 16191 (C1) of chain 0 residue 1081 (UYB)>)\n",
      "Bond(<Atom 16216 (O4) of chain 0 residue 1081 (UYB)>, <Atom 16217 (C1) of chain 0 residue 1082 (4YB)>)\n",
      "Bond(<Atom 16199 (O6) of chain 0 residue 1081 (UYB)>, <Atom 16404 (C1) of chain 0 residue 1090 (0FA)>)\n"
     ]
    }
   ],
   "source": [
    "# UYB1082 O6 - 0FA1091 C1\n",
    "resids = [1082, 1091]\n",
    "for bond in prmtop.topology.bonds():\n",
    "    if int(bond[0].residue.id) in resids or int(bond[1].residue.id) in resids:\n",
    "        if int(bond[0].residue.id) != int(bond[1].residue.id):\n",
    "            print(bond)"
   ]
  },
  {
   "cell_type": "code",
   "execution_count": 5,
   "metadata": {},
   "outputs": [
    {
     "name": "stdout",
     "output_type": "stream",
     "text": [
      "Bond(<Atom 16243 (O4) of chain 0 residue 1082 (4YB)>, <Atom 16244 (C1) of chain 0 residue 1083 (VMB)>)\n",
      "Bond(<Atom 16263 (O3) of chain 0 residue 1083 (VMB)>, <Atom 16334 (C1) of chain 0 residue 1087 (2MA)>)\n",
      "Bond(<Atom 16252 (O6) of chain 0 residue 1083 (VMB)>, <Atom 16264 (C1) of chain 0 residue 1084 (2MA)>)\n",
      "Bond(<Atom 16354 (O2) of chain 0 residue 1087 (2MA)>, <Atom 16355 (C1) of chain 0 residue 1088 (4YB)>)\n"
     ]
    }
   ],
   "source": [
    "# VMB1084 O3 - 2MA1088C1\n",
    "resids = [1084, 1088]\n",
    "for bond in prmtop.topology.bonds():\n",
    "    if int(bond[0].residue.id) in resids or int(bond[1].residue.id) in resids:\n",
    "        if int(bond[0].residue.id) != int(bond[1].residue.id):\n",
    "            print(bond)"
   ]
  },
  {
   "cell_type": "code",
   "execution_count": 4,
   "metadata": {},
   "outputs": [
    {
     "name": "stdout",
     "output_type": "stream",
     "text": [
      "Bond(<Atom 13285 (C) of chain 0 residue 892 (PHE)>, <Atom 13287 (N) of chain 0 residue 893 (NLN)>)\n",
      "Bond(<Atom 13298 (C) of chain 0 residue 893 (NLN)>, <Atom 13300 (N) of chain 0 residue 894 (ALA)>)\n",
      "Bond(<Atom 13296 (ND2) of chain 0 residue 893 (NLN)>, <Atom 16191 (C1) of chain 0 residue 1081 (UYB)>)\n",
      "Bond(<Atom 16216 (O4) of chain 0 residue 1081 (UYB)>, <Atom 16217 (C1) of chain 0 residue 1082 (4YB)>)\n",
      "Bond(<Atom 16199 (O6) of chain 0 residue 1081 (UYB)>, <Atom 16404 (C1) of chain 0 residue 1090 (0FA)>)\n"
     ]
    }
   ],
   "source": [
    "# NLN894 ND2 - UYB1082 C1\n",
    "resids = [894, 1082]\n",
    "for bond in prmtop.topology.bonds():\n",
    "    if int(bond[0].residue.id) in resids or int(bond[1].residue.id) in resids:\n",
    "        if int(bond[0].residue.id) != int(bond[1].residue.id):\n",
    "            print(bond)"
   ]
  },
  {
   "cell_type": "code",
   "execution_count": 7,
   "metadata": {},
   "outputs": [
    {
     "name": "stdout",
     "output_type": "stream",
     "text": [
      "Bond(<Atom 9862 (C) of chain 0 residue 664 (SER)>, <Atom 9864 (N) of chain 0 residue 665 (CYS)>)\n",
      "Bond(<Atom 9871 (SG) of chain 0 residue 665 (CYS)>, <Atom 13109 (SG) of chain 0 residue 880 (CYS)>)\n",
      "Bond(<Atom 13100 (C) of chain 0 residue 879 (GLU)>, <Atom 13102 (N) of chain 0 residue 880 (CYS)>)\n"
     ]
    }
   ],
   "source": [
    "# CYS666 and CYS881\n",
    "resids = [666, 881]\n",
    "for bond in prmtop.topology.bonds():\n",
    "    if int(bond[0].residue.id) in resids or int(bond[1].residue.id) in resids:\n",
    "        if int(bond[0].residue.id) != int(bond[1].residue.id):\n",
    "            print(bond)"
   ]
  },
  {
   "cell_type": "code",
   "execution_count": 20,
   "metadata": {},
   "outputs": [
    {
     "name": "stdout",
     "output_type": "stream",
     "text": [
      "Bond(<Atom 9862 (C) of chain 0 residue 664 (SER)>, <Atom 9864 (N) of chain 0 residue 665 (CYS)>)\n",
      "Bond(<Atom 9871 (SG) of chain 0 residue 665 (CYS)>, <Atom 13109 (SG) of chain 0 residue 880 (CYS)>)\n",
      "Bond(<Atom 9887 (C) of chain 0 residue 666 (ASP)>, <Atom 9889 (N) of chain 0 residue 667 (ILE)>)\n"
     ]
    }
   ],
   "source": [
    "# Found a weird long dashed line from ASP667 of chain L and CYS666 of chain H\n",
    "resids = [667, 666]\n",
    "for bond in prmtop.topology.bonds():\n",
    "    if int(bond[0].residue.id) in resids or int(bond[1].residue.id) in resids:\n",
    "        if int(bond[0].residue.id) != int(bond[1].residue.id):\n",
    "            print(bond)\n",
    "# doesn't look like this bond actually exists"
   ]
  },
  {
   "cell_type": "code",
   "execution_count": null,
   "metadata": {},
   "outputs": [],
   "source": []
  }
 ],
 "metadata": {
  "kernelspec": {
   "display_name": "Python 3",
   "language": "python",
   "name": "python3"
  },
  "language_info": {
   "codemirror_mode": {
    "name": "ipython",
    "version": 3
   },
   "file_extension": ".py",
   "mimetype": "text/x-python",
   "name": "python",
   "nbconvert_exporter": "python",
   "pygments_lexer": "ipython3",
   "version": "3.7.8"
  }
 },
 "nbformat": 4,
 "nbformat_minor": 4
}
